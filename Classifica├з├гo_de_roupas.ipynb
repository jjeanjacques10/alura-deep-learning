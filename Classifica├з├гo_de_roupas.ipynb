{
  "cells": [
    {
      "metadata": {
        "id": "VGW0_j8z5eRJ",
        "colab_type": "text"
      },
      "cell_type": "markdown",
      "source": "### Imports"
    },
    {
      "metadata": {
        "trusted": true,
        "id": "VqCLUuju5eRL",
        "colab_type": "code",
        "colab": {
          "base_uri": "https://localhost:8080/",
          "height": 80
        },
        "outputId": "98800f82-275b-4714-c796-ba41e3304e32"
      },
      "cell_type": "code",
      "source": "import tensorflow\nfrom tensorflow import keras\nimport matplotlib.pyplot as plt\nimport numpy as np",
      "execution_count": 10,
      "outputs": []
    },
    {
      "metadata": {
        "id": "us1EpV3P5eRO",
        "colab_type": "text"
      },
      "cell_type": "markdown",
      "source": "### Carregando o dataset"
    },
    {
      "metadata": {
        "trusted": true,
        "id": "MOijYf105eRP",
        "colab_type": "code",
        "colab": {}
      },
      "cell_type": "code",
      "source": "dataset = keras.datasets.fashion_mnist\n((imagens_treino, identificacoes_treino),(imagens_teste, identificacoes_teste)) = dataset.load_data()",
      "execution_count": 11,
      "outputs": []
    },
    {
      "metadata": {
        "id": "MWmBWDK-5eRS",
        "colab_type": "text"
      },
      "cell_type": "markdown",
      "source": "### Explorar os dados"
    },
    {
      "metadata": {
        "trusted": true,
        "id": "Ym0swGMM5eRT",
        "colab_type": "code",
        "colab": {
          "base_uri": "https://localhost:8080/",
          "height": 51
        },
        "outputId": "a61b3fdb-0ce5-4d14-ca99-ba33c5b772b3"
      },
      "cell_type": "code",
      "source": "len(imagens_treino)\nimagens_treino.shape\nimagens_teste.shape\nlen(identificacoes_teste)\nprint(identificacoes_treino.min())\nprint(identificacoes_treino.max())",
      "execution_count": 12,
      "outputs": [
        {
          "output_type": "stream",
          "text": "0\n9\n",
          "name": "stdout"
        }
      ]
    },
    {
      "metadata": {
        "id": "HoLuBTB45eRW",
        "colab_type": "text"
      },
      "cell_type": "markdown",
      "source": "### Exibição dos dados"
    },
    {
      "metadata": {
        "trusted": true,
        "id": "53MalR7r5eRX",
        "colab_type": "code",
        "colab": {
          "base_uri": "https://localhost:8080/",
          "height": 298
        },
        "outputId": "697eca4e-5b2e-4107-a32e-c0d5647b37da"
      },
      "cell_type": "code",
      "source": "total_de_classificacoes = 10\nnomes_de_classificacoes = ['Camiseta', 'Calça', 'Pullover',\n                          'Vestido', 'Casaco', 'Sandália', 'Camisa',\n                          'Tênis', 'Bolsa', 'Bota']\n\nplt.imshow(imagens_treino[0])\nplt.title(identificacoes_treino[0])\n'''\n#visualizar as primeiras imagens\nfor imagem in range(10):\n    plt.subplot(2, 5, imagem+1)\n    plt.imshow(imagens_treino[imagem])\n    plt.title(nomes_de_classificacoes[identificacoes_treino[imagem]])\n'''\nplt.imshow(imagens_treino[0])\nplt.colorbar()",
      "execution_count": 13,
      "outputs": [
        {
          "output_type": "execute_result",
          "execution_count": 13,
          "data": {
            "text/plain": "<matplotlib.colorbar.Colorbar at 0x7fcf6beacba8>"
          },
          "metadata": {}
        },
        {
          "output_type": "display_data",
          "data": {
            "image/png": "[encoded data removed]",
            "text/plain": "<Figure size 432x288 with 2 Axes>"
          },
          "metadata": {
            "needs_background": "light"
          }
        }
      ]
    },
    {
      "metadata": {
        "id": "a0yKgWG_G4o2",
        "colab_type": "text"
      },
      "cell_type": "markdown",
      "source": "Normalização - diminuindo o tamanho para o treino"
    },
    {
      "metadata": {
        "id": "3kqg_D1WG0jk",
        "colab_type": "code",
        "colab": {},
        "trusted": true
      },
      "cell_type": "code",
      "source": "imagens_treino = imagens_treino/float(255)",
      "execution_count": 14,
      "outputs": []
    },
    {
      "metadata": {
        "id": "8i7PomeU5eRa",
        "colab_type": "text"
      },
      "cell_type": "markdown",
      "source": "# Criando, compilando e treinando o modelo\nCamadas (Layers)"
    },
    {
      "metadata": {
        "trusted": true,
        "id": "KLTj14Ph5eRa",
        "colab_type": "code",
        "colab": {
          "base_uri": "https://localhost:8080/",
          "height": 275
        },
        "outputId": "fe6536c2-9776-4c7a-c83e-1ebe0a918bab"
      },
      "cell_type": "code",
      "source": "modelo = keras.Sequential([\n    keras.layers.Flatten(input_shape = (28,28)), #Entrada\n    keras.layers.Dense(256, activation=tensorflow.nn.relu), #processamento\n    keras.layers.Dropout(0.2), #processamento\n    keras.layers.Dense(10, activation=tensorflow.nn.softmax) #saida\n])\n\nmodelo.compile(optimizer='adam', \n               loss='sparse_categorical_crossentropy',\n               metrics = ['accuracy'])\n\nhistorico = modelo.fit(imagens_treino, identificacoes_treino, epochs=5, validation_split=0.2)",
      "execution_count": 15,
      "outputs": [
        {
          "output_type": "stream",
          "text": "Train on 48000 samples, validate on 12000 samples\nEpoch 1/5\n48000/48000 [==============================] - 38s 802us/sample - loss: 0.5264 - accuracy: 0.8131 - val_loss: 0.4158 - val_accuracy: 0.8530\nEpoch 2/5\n48000/48000 [==============================] - 37s 778us/sample - loss: 0.3981 - accuracy: 0.8563 - val_loss: 0.3887 - val_accuracy: 0.8543\nEpoch 3/5\n48000/48000 [==============================] - 38s 791us/sample - loss: 0.3621 - accuracy: 0.8678 - val_loss: 0.3843 - val_accuracy: 0.8523\nEpoch 4/5\n48000/48000 [==============================] - 38s 793us/sample - loss: 0.3414 - accuracy: 0.8740 - val_loss: 0.3411 - val_accuracy: 0.8779\nEpoch 5/5\n48000/48000 [==============================] - 38s 801us/sample - loss: 0.3226 - accuracy: 0.8813 - val_loss: 0.3331 - val_accuracy: 0.8801\n",
          "name": "stdout"
        }
      ]
    },
    {
      "metadata": {
        "id": "ygF_TLl3Hwk3",
        "colab_type": "text"
      },
      "cell_type": "markdown",
      "source": "# Salvando e Carregando o modelo"
    },
    {
      "metadata": {
        "id": "hO_r56HaFQr5",
        "colab_type": "code",
        "colab": {
          "base_uri": "https://localhost:8080/",
          "height": 139
        },
        "outputId": "f95e5a71-4a8d-4913-8629-5d8fcffc7103",
        "trusted": true
      },
      "cell_type": "code",
      "source": "from tensorflow.keras.models import load_model\n\nmodelo.save('modelo.h5')\nmodelo_salvo = load_model('modelo.h5')",
      "execution_count": 16,
      "outputs": []
    },
    {
      "metadata": {
        "id": "LPwfy7RYH7M6",
        "colab_type": "text"
      },
      "cell_type": "markdown",
      "source": "# Visualizando as acurácias de treino e validação por época"
    },
    {
      "metadata": {
        "id": "bQbZfEnN_ajh",
        "colab_type": "code",
        "colab": {},
        "trusted": true
      },
      "cell_type": "code",
      "source": "plt.plot(historico.history['acc'])\nplt.plot(historico.history['val_acc'])\nplt.title('Accuracy to epochs')\nplt.xlabel('epochs')\nplt.ylabel('accuracy')\nplt.legend(['training', 'validation '])",
      "execution_count": 17,
      "outputs": [
        {
          "output_type": "error",
          "ename": "KeyError",
          "evalue": "'acc'",
          "traceback": [
            "\u001b[0;31m---------------------------------------------------------------------------\u001b[0m",
            "\u001b[0;31mKeyError\u001b[0m                                  Traceback (most recent call last)",
            "\u001b[0;32m<ipython-input-17-c3200067a981>\u001b[0m in \u001b[0;36m<module>\u001b[0;34m\u001b[0m\n\u001b[0;32m----> 1\u001b[0;31m \u001b[0mplt\u001b[0m\u001b[0;34m.\u001b[0m\u001b[0mplot\u001b[0m\u001b[0;34m(\u001b[0m\u001b[0mhistorico\u001b[0m\u001b[0;34m.\u001b[0m\u001b[0mhistory\u001b[0m\u001b[0;34m[\u001b[0m\u001b[0;34m'acc'\u001b[0m\u001b[0;34m]\u001b[0m\u001b[0;34m)\u001b[0m\u001b[0;34m\u001b[0m\u001b[0m\n\u001b[0m\u001b[1;32m      2\u001b[0m \u001b[0mplt\u001b[0m\u001b[0;34m.\u001b[0m\u001b[0mplot\u001b[0m\u001b[0;34m(\u001b[0m\u001b[0mhistorico\u001b[0m\u001b[0;34m.\u001b[0m\u001b[0mhistory\u001b[0m\u001b[0;34m[\u001b[0m\u001b[0;34m'val_acc'\u001b[0m\u001b[0;34m]\u001b[0m\u001b[0;34m)\u001b[0m\u001b[0;34m\u001b[0m\u001b[0m\n\u001b[1;32m      3\u001b[0m \u001b[0mplt\u001b[0m\u001b[0;34m.\u001b[0m\u001b[0mtitle\u001b[0m\u001b[0;34m(\u001b[0m\u001b[0;34m'Accuracy to epochs'\u001b[0m\u001b[0;34m)\u001b[0m\u001b[0;34m\u001b[0m\u001b[0m\n\u001b[1;32m      4\u001b[0m \u001b[0mplt\u001b[0m\u001b[0;34m.\u001b[0m\u001b[0mxlabel\u001b[0m\u001b[0;34m(\u001b[0m\u001b[0;34m'epochs'\u001b[0m\u001b[0;34m)\u001b[0m\u001b[0;34m\u001b[0m\u001b[0m\n\u001b[1;32m      5\u001b[0m \u001b[0mplt\u001b[0m\u001b[0;34m.\u001b[0m\u001b[0mylabel\u001b[0m\u001b[0;34m(\u001b[0m\u001b[0;34m'accuracy'\u001b[0m\u001b[0;34m)\u001b[0m\u001b[0;34m\u001b[0m\u001b[0m\n",
            "\u001b[0;31mKeyError\u001b[0m: 'acc'"
          ]
        }
      ]
    },
    {
      "metadata": {
        "id": "8CLG5yx6IF8l",
        "colab_type": "text"
      },
      "cell_type": "markdown",
      "source": "# Visualizando as perdas de treino e validação por época"
    },
    {
      "metadata": {
        "id": "FaZ2RhxTAu_S",
        "colab_type": "code",
        "colab": {
          "base_uri": "https://localhost:8080/",
          "height": 312
        },
        "outputId": "93b6218b-9f01-42fb-8808-fdf3d50018a5",
        "trusted": true
      },
      "cell_type": "code",
      "source": "plt.plot(historico.history['loss'])\nplt.plot(historico.history['val_loss'])\nplt.title('Loss to epochs')\nplt.xlabel('epochs')\nplt.ylabel('loss')\nplt.legend(['training', 'validation '])",
      "execution_count": null,
      "outputs": []
    },
    {
      "metadata": {
        "id": "gxTxF3ieIL8i",
        "colab_type": "text"
      },
      "cell_type": "markdown",
      "source": "# Testando o modelo e o modelo salvo"
    },
    {
      "metadata": {
        "trusted": true,
        "id": "NlaAvsa05eRd",
        "colab_type": "code",
        "colab": {
          "base_uri": "https://localhost:8080/",
          "height": 85
        },
        "outputId": "bd7ffa48-14f2-4f5d-ac9a-2679720dc22c"
      },
      "cell_type": "code",
      "source": "testes = modelo.predict(imagens_teste)\nprint('Resultado teste: ',np.argmax(testes[1]))\nprint('Número da imagem de teste: ', identificacoes_teste[1])\n\ntestes_modelo_salvo = modelo_salvo.predict(imagens_teste)\nprint('Resultado testes modelo salvo: ', np.argmax(testes_modelo_salvo[1]))\nprint('Número da imagem de teste: ', identificacoes_teste[1])",
      "execution_count": null,
      "outputs": []
    },
    {
      "metadata": {
        "id": "_zXaQmOmIQJW",
        "colab_type": "text"
      },
      "cell_type": "markdown",
      "source": "# Avaliando o modelo"
    },
    {
      "metadata": {
        "id": "B8hPxlgc9VlG",
        "colab_type": "code",
        "colab": {
          "base_uri": "https://localhost:8080/",
          "height": 88
        },
        "outputId": "6fdf7c13-9b7b-4ba9-b50f-1e03dbf79669",
        "trusted": true
      },
      "cell_type": "code",
      "source": "perda_teste, acuracia_teste = modelo.evaluate(imagens_teste, identificacoes_teste)\nprint('Perda do teste: ', perda_teste)\nprint('Acurácia do teste: ', acuracia_teste)",
      "execution_count": null,
      "outputs": []
    }
  ],
  "metadata": {
    "kernelspec": {
      "name": "python36",
      "display_name": "Python 3.6",
      "language": "python"
    },
    "language_info": {
      "mimetype": "text/x-python",
      "nbconvert_exporter": "python",
      "name": "python",
      "pygments_lexer": "ipython3",
      "version": "3.6.6",
      "file_extension": ".py",
      "codemirror_mode": {
        "version": 3,
        "name": "ipython"
      }
    },
    "colab": {
      "name": "Classificação de roupas.ipynb",
      "provenance": [],
      "collapsed_sections": []
    }
  },
  "nbformat": 4,
  "nbformat_minor": 1
}